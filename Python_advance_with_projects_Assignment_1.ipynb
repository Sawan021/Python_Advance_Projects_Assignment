{
 "cells": [
  {
   "cell_type": "markdown",
   "metadata": {
    "id": "Mo4fCl-Sva8R"
   },
   "source": [
    "## ** Python advance with projects Assignment-1 **"
   ]
  },
  {
   "cell_type": "markdown",
   "metadata": {
    "id": "HZGb-UT5vHJQ"
   },
   "source": [
    "**1. What makes NumPy.shape() different from NumPy.size()?**\n",
    "\n",
    "Answer: NumPy.shape() is an function which returns a tuple, the elements of the tuple give the lengths of the corresponding array dimensions. Wheeras, NumPy.size() function count the number of elements along a given axis."
   ]
  },
  {
   "cell_type": "code",
   "execution_count": 2,
   "metadata": {
    "colab": {
     "base_uri": "https://localhost:8080/"
    },
    "id": "wG58kdLLwhKm",
    "outputId": "659b4e6b-4a5c-4862-9a27-0a2e11788f47"
   },
   "outputs": [
    {
     "name": "stdout",
     "output_type": "stream",
     "text": [
      "(2, 4)\n",
      "(3, 4)\n",
      "8\n",
      "12\n"
     ]
    }
   ],
   "source": [
    "import numpy as npy\n",
    "arr1 = npy.array([[1, 3, 5, 7], [2, 4, 6, 8]])\n",
    "arr2 = npy.array([[1, 3, 5, 7], [2, 4, 6, 8],\n",
    "\t\t\t\t[3, 6, 9, 12]])\n",
    "\n",
    "# first element of tuple gives dimension of arrays second element of tuple gives number of element of each dimension\n",
    "print(arr1.shape)\n",
    "print(arr2.shape)\n",
    "print(arr1.size)\n",
    "print(arr2.size)\n"
   ]
  },
  {
   "cell_type": "markdown",
   "metadata": {
    "id": "kZQggqpxvR65"
   },
   "source": [
    "**2. In NumPy, describe the idea of broadcasting.**\n",
    "\n",
    "Ans: The term broadcasting refers to how numpy treats arrays with different Dimension during arithmetic operations which lead to certain constraints, the smaller array is broadcast across the larger array so that they have compatible shapes. \n",
    "Broadcasting provides a means of vectorizing array operations so that looping occurs in C instead of Python.<br>\n",
    "NumPy is implemented in C. It does this without making needless copies of data and which leads to efficient algorithm implementations. There are cases where broadcasting is a bad idea because it leads to inefficient use of memory that slow down the computation.<br>\n",
    "\n",
    "Broadcasting two arrays together follow these rules:\n",
    " \n",
    "\n",
    "- If the arrays don’t have the same rank then prepend the shape of the lower rank array with 1s until both shapes have the same length.\n",
    "- The two arrays are compatible in a dimension if they have the same size in - - the dimension or if one of the arrays has size 1 in that dimension.\n",
    "- The arrays can be broadcast together iff they are compatible with all dimensions.\n",
    "- After broadcasting, each array behaves as if it had shape equal to the element-wise maximum of shapes of the two input arrays.\n",
    "- In any dimension where one array had size 1 and the other array had size greater than 1, the first array behaves as if it were copied along that dimension.\n",
    "  "
   ]
  },
  {
   "cell_type": "code",
   "execution_count": 1,
   "metadata": {
    "colab": {
     "base_uri": "https://localhost:8080/"
    },
    "id": "L1pcnjOHy417",
    "outputId": "e7efb62e-c6c5-4589-f114-b44964d241f0"
   },
   "outputs": [
    {
     "name": "stdout",
     "output_type": "stream",
     "text": [
      "[[21 32 43]\n",
      " [20 30 40]]\n",
      "4\n",
      "[[25 36 47]\n",
      " [24 34 44]]\n"
     ]
    }
   ],
   "source": [
    "import numpy as np\n",
    "A = np.array([[21, 32, 43], [20, 30, 40]])\n",
    "print(A)\n",
    "b = 4\n",
    "print(b)\n",
    "C = A + b\n",
    "print(C)"
   ]
  },
  {
   "cell_type": "markdown",
   "metadata": {
    "id": "kTC7lyhvvUKa"
   },
   "source": [
    "\n",
    "**3. What makes Python better than other libraries for numerical computation?**\n",
    "\n",
    "Ans: In python there are lot of libraries which can be used to perform computation. Numpy is a fundamental numerical pakage in python. Numpy guarantees swift execution as it is accumulated with mathematical and numerical functions. Robust Python with its dynamic data structures, efficient implementation of multi-dimensional arrays and matrices, Numpy assures accurate calculations with matrices and arrays. We need to import Numpy into memory to perform numerical operations. There are other libraries also like pandas,scipy etc which makes working in python more easy."
   ]
  },
  {
   "cell_type": "markdown",
   "metadata": {
    "id": "OrfyVi4_vTli"
   },
   "source": [
    "**4. How does NumPy deal with files?**\n",
    "\n",
    "Answer: NumPy introduces a simple file format for ndarray objects. This .npy file stores data, shape, dtype and other information required to reconstruct the ndarray in a disk file such that the array is correctly retrieved even if the file is on another machine with different architecture."
   ]
  },
  {
   "cell_type": "code",
   "execution_count": 6,
   "metadata": {
    "colab": {
     "base_uri": "https://localhost:8080/"
    },
    "id": "3u0ntv1Y1b6a",
    "outputId": "d5ba96a5-35a9-48ea-f166-66f1f94d82d8"
   },
   "outputs": [
    {
     "name": "stdout",
     "output_type": "stream",
     "text": [
      "[1 2 3 4 5]\n"
     ]
    }
   ],
   "source": [
    "import numpy as np \n",
    "a = np.array([1,2,3,4,5]) \n",
    "np.save('arrayfile',a)\n",
    "b = np.load('arrayfile.npy') \n",
    "print( b) "
   ]
  },
  {
   "cell_type": "code",
   "execution_count": 9,
   "metadata": {
    "colab": {
     "base_uri": "https://localhost:8080/"
    },
    "id": "D2vMZaYV1vtz",
    "outputId": "d07556b0-61d9-4e44-fe11-24b314cc0b34"
   },
   "outputs": [
    {
     "name": "stdout",
     "output_type": "stream",
     "text": [
      "[1. 2. 3. 4. 5.]\n"
     ]
    }
   ],
   "source": [
    "import numpy as np \n",
    "a = np.array([1,2,3,4,5]) \n",
    "np.savetxt('out.txt',a) \n",
    "b = np.loadtxt('out.txt') \n",
    "print(b) "
   ]
  },
  {
   "cell_type": "markdown",
   "metadata": {
    "id": "uouLSqP7vSfR"
   },
   "source": [
    "\n",
    "**5. Mention the importance of NumPy.empty().**\n",
    "\n",
    "Answer: numpy.empty() is a function used to create an array without initializing the entries of given shape and type.\n",
    "Just like numpy.zeros(), the numpy.empty() function doesn't set the array values to zero, and it is quite faster than the numpy.zeros(). This function requires the user to set all the values in the array manually and should be used with caution."
   ]
  },
  {
   "cell_type": "code",
   "execution_count": 10,
   "metadata": {
    "colab": {
     "base_uri": "https://localhost:8080/"
    },
    "id": "k2itIdGk2TFg",
    "outputId": "355894ca-5e71-45ad-9506-caa715b2e9b2"
   },
   "outputs": [
    {
     "data": {
      "text/plain": [
       "array([[4.68951354e-310, 0.00000000e+000],\n",
       "       [0.00000000e+000, 0.00000000e+000],\n",
       "       [0.00000000e+000, 0.00000000e+000]])"
      ]
     },
     "execution_count": 10,
     "metadata": {},
     "output_type": "execute_result"
    }
   ],
   "source": [
    "import numpy as np  \n",
    "x = np.empty([3, 2])  \n",
    "x  "
   ]
  }
 ],
 "metadata": {
  "colab": {
   "name": "Ineuron_Python_Advance_Assignment1.ipynb",
   "provenance": []
  },
  "kernelspec": {
   "display_name": "Python 3",
   "language": "python",
   "name": "python3"
  },
  "language_info": {
   "codemirror_mode": {
    "name": "ipython",
    "version": 3
   },
   "file_extension": ".py",
   "mimetype": "text/x-python",
   "name": "python",
   "nbconvert_exporter": "python",
   "pygments_lexer": "ipython3",
   "version": "3.8.5"
  }
 },
 "nbformat": 4,
 "nbformat_minor": 1
}
